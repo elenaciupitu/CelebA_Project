{
  "nbformat": 4,
  "nbformat_minor": 0,
  "metadata": {
    "colab": {
      "provenance": [],
      "collapsed_sections": []
    },
    "kernelspec": {
      "name": "python3",
      "display_name": "Python 3"
    },
    "language_info": {
      "name": "python"
    },
    "accelerator": "GPU",
    "widgets": {
      "application/vnd.jupyter.widget-state+json": {
        "9b543797a440486e84279945682a3453": {
          "model_module": "@jupyter-widgets/controls",
          "model_name": "HBoxModel",
          "model_module_version": "1.5.0",
          "state": {
            "_dom_classes": [],
            "_model_module": "@jupyter-widgets/controls",
            "_model_module_version": "1.5.0",
            "_model_name": "HBoxModel",
            "_view_count": null,
            "_view_module": "@jupyter-widgets/controls",
            "_view_module_version": "1.5.0",
            "_view_name": "HBoxView",
            "box_style": "",
            "children": [
              "IPY_MODEL_02c1785ddb6f46618b383f39e740fd1c",
              "IPY_MODEL_474411530d3d4cceb9203945a4e07c36",
              "IPY_MODEL_edb3c0a67d544cf190f68c32521b86ba"
            ],
            "layout": "IPY_MODEL_21fd7cc6f5ec4177950527895e68e573"
          }
        },
        "02c1785ddb6f46618b383f39e740fd1c": {
          "model_module": "@jupyter-widgets/controls",
          "model_name": "HTMLModel",
          "model_module_version": "1.5.0",
          "state": {
            "_dom_classes": [],
            "_model_module": "@jupyter-widgets/controls",
            "_model_module_version": "1.5.0",
            "_model_name": "HTMLModel",
            "_view_count": null,
            "_view_module": "@jupyter-widgets/controls",
            "_view_module_version": "1.5.0",
            "_view_name": "HTMLView",
            "description": "",
            "description_tooltip": null,
            "layout": "IPY_MODEL_7f179f0e6e1b463aa29fb5b72c2e084f",
            "placeholder": "​",
            "style": "IPY_MODEL_7399b8bcbbde45feb258e46c6be79d48",
            "value": "100%"
          }
        },
        "474411530d3d4cceb9203945a4e07c36": {
          "model_module": "@jupyter-widgets/controls",
          "model_name": "FloatProgressModel",
          "model_module_version": "1.5.0",
          "state": {
            "_dom_classes": [],
            "_model_module": "@jupyter-widgets/controls",
            "_model_module_version": "1.5.0",
            "_model_name": "FloatProgressModel",
            "_view_count": null,
            "_view_module": "@jupyter-widgets/controls",
            "_view_module_version": "1.5.0",
            "_view_name": "ProgressView",
            "bar_style": "success",
            "description": "",
            "description_tooltip": null,
            "layout": "IPY_MODEL_5fc58e86a90d4141b7605ecc7ed2b3b2",
            "max": 17622273,
            "min": 0,
            "orientation": "horizontal",
            "style": "IPY_MODEL_ba4c21680a6a413486eb64169b7ee049",
            "value": 17622273
          }
        },
        "edb3c0a67d544cf190f68c32521b86ba": {
          "model_module": "@jupyter-widgets/controls",
          "model_name": "HTMLModel",
          "model_module_version": "1.5.0",
          "state": {
            "_dom_classes": [],
            "_model_module": "@jupyter-widgets/controls",
            "_model_module_version": "1.5.0",
            "_model_name": "HTMLModel",
            "_view_count": null,
            "_view_module": "@jupyter-widgets/controls",
            "_view_module_version": "1.5.0",
            "_view_name": "HTMLView",
            "description": "",
            "description_tooltip": null,
            "layout": "IPY_MODEL_3009599c509e4df48791b7c90c90d10d",
            "placeholder": "​",
            "style": "IPY_MODEL_68e6d8256dd243de9d853b7bac1bae7e",
            "value": " 16.8M/16.8M [00:00&lt;00:00, 74.9MB/s]"
          }
        },
        "21fd7cc6f5ec4177950527895e68e573": {
          "model_module": "@jupyter-widgets/base",
          "model_name": "LayoutModel",
          "model_module_version": "1.2.0",
          "state": {
            "_model_module": "@jupyter-widgets/base",
            "_model_module_version": "1.2.0",
            "_model_name": "LayoutModel",
            "_view_count": null,
            "_view_module": "@jupyter-widgets/base",
            "_view_module_version": "1.2.0",
            "_view_name": "LayoutView",
            "align_content": null,
            "align_items": null,
            "align_self": null,
            "border": null,
            "bottom": null,
            "display": null,
            "flex": null,
            "flex_flow": null,
            "grid_area": null,
            "grid_auto_columns": null,
            "grid_auto_flow": null,
            "grid_auto_rows": null,
            "grid_column": null,
            "grid_gap": null,
            "grid_row": null,
            "grid_template_areas": null,
            "grid_template_columns": null,
            "grid_template_rows": null,
            "height": null,
            "justify_content": null,
            "justify_items": null,
            "left": null,
            "margin": null,
            "max_height": null,
            "max_width": null,
            "min_height": null,
            "min_width": null,
            "object_fit": null,
            "object_position": null,
            "order": null,
            "overflow": null,
            "overflow_x": null,
            "overflow_y": null,
            "padding": null,
            "right": null,
            "top": null,
            "visibility": null,
            "width": null
          }
        },
        "7f179f0e6e1b463aa29fb5b72c2e084f": {
          "model_module": "@jupyter-widgets/base",
          "model_name": "LayoutModel",
          "model_module_version": "1.2.0",
          "state": {
            "_model_module": "@jupyter-widgets/base",
            "_model_module_version": "1.2.0",
            "_model_name": "LayoutModel",
            "_view_count": null,
            "_view_module": "@jupyter-widgets/base",
            "_view_module_version": "1.2.0",
            "_view_name": "LayoutView",
            "align_content": null,
            "align_items": null,
            "align_self": null,
            "border": null,
            "bottom": null,
            "display": null,
            "flex": null,
            "flex_flow": null,
            "grid_area": null,
            "grid_auto_columns": null,
            "grid_auto_flow": null,
            "grid_auto_rows": null,
            "grid_column": null,
            "grid_gap": null,
            "grid_row": null,
            "grid_template_areas": null,
            "grid_template_columns": null,
            "grid_template_rows": null,
            "height": null,
            "justify_content": null,
            "justify_items": null,
            "left": null,
            "margin": null,
            "max_height": null,
            "max_width": null,
            "min_height": null,
            "min_width": null,
            "object_fit": null,
            "object_position": null,
            "order": null,
            "overflow": null,
            "overflow_x": null,
            "overflow_y": null,
            "padding": null,
            "right": null,
            "top": null,
            "visibility": null,
            "width": null
          }
        },
        "7399b8bcbbde45feb258e46c6be79d48": {
          "model_module": "@jupyter-widgets/controls",
          "model_name": "DescriptionStyleModel",
          "model_module_version": "1.5.0",
          "state": {
            "_model_module": "@jupyter-widgets/controls",
            "_model_module_version": "1.5.0",
            "_model_name": "DescriptionStyleModel",
            "_view_count": null,
            "_view_module": "@jupyter-widgets/base",
            "_view_module_version": "1.2.0",
            "_view_name": "StyleView",
            "description_width": ""
          }
        },
        "5fc58e86a90d4141b7605ecc7ed2b3b2": {
          "model_module": "@jupyter-widgets/base",
          "model_name": "LayoutModel",
          "model_module_version": "1.2.0",
          "state": {
            "_model_module": "@jupyter-widgets/base",
            "_model_module_version": "1.2.0",
            "_model_name": "LayoutModel",
            "_view_count": null,
            "_view_module": "@jupyter-widgets/base",
            "_view_module_version": "1.2.0",
            "_view_name": "LayoutView",
            "align_content": null,
            "align_items": null,
            "align_self": null,
            "border": null,
            "bottom": null,
            "display": null,
            "flex": null,
            "flex_flow": null,
            "grid_area": null,
            "grid_auto_columns": null,
            "grid_auto_flow": null,
            "grid_auto_rows": null,
            "grid_column": null,
            "grid_gap": null,
            "grid_row": null,
            "grid_template_areas": null,
            "grid_template_columns": null,
            "grid_template_rows": null,
            "height": null,
            "justify_content": null,
            "justify_items": null,
            "left": null,
            "margin": null,
            "max_height": null,
            "max_width": null,
            "min_height": null,
            "min_width": null,
            "object_fit": null,
            "object_position": null,
            "order": null,
            "overflow": null,
            "overflow_x": null,
            "overflow_y": null,
            "padding": null,
            "right": null,
            "top": null,
            "visibility": null,
            "width": null
          }
        },
        "ba4c21680a6a413486eb64169b7ee049": {
          "model_module": "@jupyter-widgets/controls",
          "model_name": "ProgressStyleModel",
          "model_module_version": "1.5.0",
          "state": {
            "_model_module": "@jupyter-widgets/controls",
            "_model_module_version": "1.5.0",
            "_model_name": "ProgressStyleModel",
            "_view_count": null,
            "_view_module": "@jupyter-widgets/base",
            "_view_module_version": "1.2.0",
            "_view_name": "StyleView",
            "bar_color": null,
            "description_width": ""
          }
        },
        "3009599c509e4df48791b7c90c90d10d": {
          "model_module": "@jupyter-widgets/base",
          "model_name": "LayoutModel",
          "model_module_version": "1.2.0",
          "state": {
            "_model_module": "@jupyter-widgets/base",
            "_model_module_version": "1.2.0",
            "_model_name": "LayoutModel",
            "_view_count": null,
            "_view_module": "@jupyter-widgets/base",
            "_view_module_version": "1.2.0",
            "_view_name": "LayoutView",
            "align_content": null,
            "align_items": null,
            "align_self": null,
            "border": null,
            "bottom": null,
            "display": null,
            "flex": null,
            "flex_flow": null,
            "grid_area": null,
            "grid_auto_columns": null,
            "grid_auto_flow": null,
            "grid_auto_rows": null,
            "grid_column": null,
            "grid_gap": null,
            "grid_row": null,
            "grid_template_areas": null,
            "grid_template_columns": null,
            "grid_template_rows": null,
            "height": null,
            "justify_content": null,
            "justify_items": null,
            "left": null,
            "margin": null,
            "max_height": null,
            "max_width": null,
            "min_height": null,
            "min_width": null,
            "object_fit": null,
            "object_position": null,
            "order": null,
            "overflow": null,
            "overflow_x": null,
            "overflow_y": null,
            "padding": null,
            "right": null,
            "top": null,
            "visibility": null,
            "width": null
          }
        },
        "68e6d8256dd243de9d853b7bac1bae7e": {
          "model_module": "@jupyter-widgets/controls",
          "model_name": "DescriptionStyleModel",
          "model_module_version": "1.5.0",
          "state": {
            "_model_module": "@jupyter-widgets/controls",
            "_model_module_version": "1.5.0",
            "_model_name": "DescriptionStyleModel",
            "_view_count": null,
            "_view_module": "@jupyter-widgets/base",
            "_view_module_version": "1.2.0",
            "_view_name": "StyleView",
            "description_width": ""
          }
        }
      }
    },
    "gpuClass": "standard"
  },
  "cells": [
    {
      "cell_type": "code",
      "source": [
        "Smile detector\n",
        "Image Classification -> Supervised->Classification -> Binary Classification\n",
        "Folosim retea preantrenata si eliminam ultimele layere liniare, Data generator/ Data loader"
      ],
      "metadata": {
        "id": "IvKYLRQDWZZo"
      },
      "execution_count": null,
      "outputs": []
    },
    {
      "cell_type": "code",
      "execution_count": 1,
      "metadata": {
        "id": "4UMXXqwcDi13"
      },
      "outputs": [],
      "source": [
        "import pandas as pd\n",
        "from PIL import Image\n",
        "import torch\n",
        "import torchvision\n",
        "from torchvision.io import read_image\n",
        "from torchvision.models import regnet_y_400mf \n",
        "from torch.utils.data import Dataset\n",
        "from torch.utils.data import DataLoader\n",
        "import torch.optim as optim\n",
        "import torch.nn as nn\n",
        "import os"
      ]
    },
    {
      "cell_type": "code",
      "source": [
        "if torch.cuda.is_available(): \n",
        "  dev = \"cuda:0\" \n",
        "else: \n",
        "  dev = \"cpu\" \n",
        "device = torch.device(dev)"
      ],
      "metadata": {
        "id": "V9k5fecc2AbM"
      },
      "execution_count": 16,
      "outputs": []
    },
    {
      "cell_type": "code",
      "source": [
        "dev"
      ],
      "metadata": {
        "colab": {
          "base_uri": "https://localhost:8080/",
          "height": 35
        },
        "id": "hpvplrqK22YO",
        "outputId": "3e338970-b6ad-42fa-ef0b-9b66484c97af"
      },
      "execution_count": 17,
      "outputs": [
        {
          "output_type": "execute_result",
          "data": {
            "text/plain": [
              "'cuda:0'"
            ],
            "application/vnd.google.colaboratory.intrinsic+json": {
              "type": "string"
            }
          },
          "metadata": {},
          "execution_count": 17
        }
      ]
    },
    {
      "cell_type": "code",
      "source": [
        "from google.colab import drive\n",
        "drive.mount(\"/content/drive\")"
      ],
      "metadata": {
        "colab": {
          "base_uri": "https://localhost:8080/"
        },
        "id": "yRld7fpaSMrc",
        "outputId": "2bb29234-5150-467c-9ae9-4fdd1ed86958"
      },
      "execution_count": null,
      "outputs": [
        {
          "output_type": "stream",
          "name": "stdout",
          "text": [
            "Drive already mounted at /content/drive; to attempt to forcibly remount, call drive.mount(\"/content/drive\", force_remount=True).\n"
          ]
        }
      ]
    },
    {
      "cell_type": "code",
      "source": [
        "df = pd.read_csv(\"/content/drive/MyDrive/DataScience/datasets/Celeba/list_attr_celeba.csv\")"
      ],
      "metadata": {
        "id": "UM_sleHdRBZT"
      },
      "execution_count": 2,
      "outputs": []
    },
    {
      "cell_type": "code",
      "source": [
        "model = regnet_y_400mf(weights='IMAGENET1K_V1', )"
      ],
      "metadata": {
        "colab": {
          "base_uri": "https://localhost:8080/",
          "height": 66,
          "referenced_widgets": [
            "9b543797a440486e84279945682a3453",
            "02c1785ddb6f46618b383f39e740fd1c",
            "474411530d3d4cceb9203945a4e07c36",
            "edb3c0a67d544cf190f68c32521b86ba",
            "21fd7cc6f5ec4177950527895e68e573",
            "7f179f0e6e1b463aa29fb5b72c2e084f",
            "7399b8bcbbde45feb258e46c6be79d48",
            "5fc58e86a90d4141b7605ecc7ed2b3b2",
            "ba4c21680a6a413486eb64169b7ee049",
            "3009599c509e4df48791b7c90c90d10d",
            "68e6d8256dd243de9d853b7bac1bae7e"
          ]
        },
        "id": "Bt-ydTmmaIsO",
        "outputId": "e65f6e17-b321-4931-c691-bc4feb2284d4"
      },
      "execution_count": 3,
      "outputs": [
        {
          "output_type": "stream",
          "name": "stderr",
          "text": [
            "Downloading: \"https://download.pytorch.org/models/regnet_y_400mf-c65dace8.pth\" to /root/.cache/torch/hub/checkpoints/regnet_y_400mf-c65dace8.pth\n"
          ]
        },
        {
          "output_type": "display_data",
          "data": {
            "text/plain": [
              "  0%|          | 0.00/16.8M [00:00<?, ?B/s]"
            ],
            "application/vnd.jupyter.widget-view+json": {
              "version_major": 2,
              "version_minor": 0,
              "model_id": "9b543797a440486e84279945682a3453"
            }
          },
          "metadata": {}
        }
      ]
    },
    {
      "cell_type": "code",
      "source": [
        "print(model)"
      ],
      "metadata": {
        "id": "GxRLmJBcbGW0"
      },
      "execution_count": null,
      "outputs": []
    },
    {
      "cell_type": "code",
      "source": [
        "model.fc = torch.nn.Linear(in_features=440, out_features=2, bias=True)"
      ],
      "metadata": {
        "id": "YP-cUYykbH2P"
      },
      "execution_count": 5,
      "outputs": []
    },
    {
      "cell_type": "code",
      "source": [
        "print(model)"
      ],
      "metadata": {
        "id": "e2InFWF8bmfC"
      },
      "execution_count": null,
      "outputs": []
    },
    {
      "cell_type": "code",
      "source": [
        "model.to(device)"
      ],
      "metadata": {
        "id": "Y5ZtUsto2gcp"
      },
      "execution_count": null,
      "outputs": []
    },
    {
      "cell_type": "code",
      "source": [
        "transform = torchvision.transforms.Compose([torchvision.transforms.Resize((128, 128)),\n",
        "                                            torchvision.transforms.ToTensor()])"
      ],
      "metadata": {
        "id": "Yga6m-LAafX3"
      },
      "execution_count": 28,
      "outputs": []
    },
    {
      "cell_type": "code",
      "source": [
        "class Celeba(Dataset):\n",
        "    def __init__(self, annotations_file, img_dir, transform=None, validation=False):\n",
        "        self.img_labels = pd.read_csv(annotations_file)\n",
        "        valid_images = os.listdir(img_dir)\n",
        "        if validation == True:\n",
        "            valid_images = valid_images[int(0.8 * len(valid_images)):]\n",
        "        else:\n",
        "            valid_images = valid_images[:int(0.8 * len(valid_images))]    \n",
        "        self.img_labels = self.img_labels[self.img_labels[\"image_id\"].isin(valid_images)]\n",
        "        self.img_labels = self.img_labels.reset_index()\n",
        "        self.img_dir = img_dir\n",
        "        self.transform = transform\n",
        "\n",
        "    def __len__(self):\n",
        "        return len(self.img_labels)\n",
        "\n",
        "    def __getitem__(self, idx):\n",
        "        img_path = os.path.join(self.img_dir, self.img_labels.loc[idx, \"image_id\"])\n",
        "        image = Image.open(img_path)\n",
        "        label = self.img_labels.loc[idx, \"Smiling\"]\n",
        "        if label == -1:\n",
        "            label = 0\n",
        "        if self.transform:\n",
        "            image = self.transform(image)\n",
        "        \n",
        "        return image, label"
      ],
      "metadata": {
        "id": "a605g4D_A1dg"
      },
      "execution_count": 29,
      "outputs": []
    },
    {
      "cell_type": "code",
      "source": [
        "ann_file = \"/content/drive/MyDrive/DataScience/datasets/Celeba/img_align_celeba/list_attr_celeba.csv\"\n",
        "img_dir = \"/content/drive/MyDrive/DataScience/datasets/Celeba/img_align_celeba/img_align_celeba\""
      ],
      "metadata": {
        "id": "nF_HdWBeEvua"
      },
      "execution_count": 30,
      "outputs": []
    },
    {
      "cell_type": "code",
      "source": [
        "Celeba_dataset_train = Celeba(annotations_file=ann_file, img_dir=img_dir, transform=transform, validation=False)\n",
        "Celeba_dataset_validation = Celeba(annotations_file=ann_file, img_dir=img_dir, transform=transform, validation=True)"
      ],
      "metadata": {
        "id": "De116nWZG3SQ"
      },
      "execution_count": 31,
      "outputs": []
    },
    {
      "cell_type": "code",
      "source": [
        "# print(Celeba_dataset_train.__len__())\n",
        "print(Celeba_dataset_train.__getitem__(11000))"
      ],
      "metadata": {
        "id": "yFLeNDpnLuwk"
      },
      "execution_count": null,
      "outputs": []
    },
    {
      "cell_type": "code",
      "source": [
        "trainloader = DataLoader(Celeba_dataset_train, batch_size=64, shuffle=True, num_workers=2)\n",
        "validationloader = DataLoader(Celeba_dataset_validation, batch_size=64, shuffle=False, num_workers=2)"
      ],
      "metadata": {
        "id": "RMyaIfcxX5cM"
      },
      "execution_count": 74,
      "outputs": []
    },
    {
      "cell_type": "code",
      "source": [
        "trainloader"
      ],
      "metadata": {
        "colab": {
          "base_uri": "https://localhost:8080/"
        },
        "id": "eMhWe1EIZ7rp",
        "outputId": "6db1c1ff-af98-47e9-e6d8-96b7a318360f"
      },
      "execution_count": 24,
      "outputs": [
        {
          "output_type": "execute_result",
          "data": {
            "text/plain": [
              "<torch.utils.data.dataloader.DataLoader at 0x7ff95aae7b50>"
            ]
          },
          "metadata": {},
          "execution_count": 24
        }
      ]
    },
    {
      "cell_type": "code",
      "source": [
        "criterion = nn.CrossEntropyLoss()\n",
        "optimizer = optim.SGD(model.parameters(), lr=0.001, momentum=0.9)"
      ],
      "metadata": {
        "id": "3sZ9Bd_fcv06"
      },
      "execution_count": 34,
      "outputs": []
    },
    {
      "cell_type": "code",
      "source": [
        "from time import time\n",
        "import os\n",
        "from tqdm import tqdm \n",
        "num_epochs = 20\n",
        "\n",
        "checkpoint_dir = \"/content/drive/MyDrive/DataScience/datasets/Celeba/checkpoint_experiment1\"\n",
        "if os.path.isdir(checkpoint_dir) == False:\n",
        "    os.makedirs(checkpoint_dir)\n",
        "\n",
        "steps_to_checkpoint = 50\n",
        "\n",
        "for epoch in range(num_epochs):  # loop over the dataset multiple times\n",
        "\n",
        "    running_loss = 0.0\n",
        "    model.train()\n",
        "    for i, data in tqdm(enumerate(trainloader, 0)):\n",
        "        inputs, labels = data\n",
        "        inputs = inputs.to(device)\n",
        "        labels = labels.to(device)\n",
        "        # zero the parameter gradients\n",
        "        optimizer.zero_grad()\n",
        "        # forward + backward + optimize\n",
        "        outputs = model(inputs)\n",
        "        loss = criterion(outputs, labels)        \n",
        "        loss.backward()        \n",
        "        optimizer.step()\n",
        "        # print statistics\n",
        "        running_loss += loss.item()\n",
        "        if i % 200 == 199:    # print every 200 mini-batches\n",
        "            print(f'[{epoch + 1}, {i + 1:5d}] loss: {running_loss / 200:.3f}')\n",
        "            running_loss = 0.0\n",
        "        if i % steps_to_checkpoint == 49:\n",
        "            torch.save(model.state_dict(), os.path.join(checkpoint_dir, \"model_step_\" + str(i) + \".pth\"))\n",
        "\n",
        "\n",
        "    model.eval() # opresc orice actualizare de parametri        \n",
        "    running_loss = 0\n",
        "    corrects = 0\n",
        "    for j, data in tqdm(enumerate(validationloader, 0)):\n",
        "        inputs, labels = data\n",
        "        inputs = inputs.to(device)\n",
        "        labels = labels.to(device)\n",
        "        with torch.no_grad(): \n",
        "          outputs = model(inputs)\n",
        "          prob_outputs = nn.Softmax(dim=-1)(outputs)\n",
        "        predicted_labels = torch.argmax(prob_outputs, dim=1)   \n",
        "        loss = criterion(outputs, labels)          \n",
        "        running_loss += loss.item()\n",
        "        corrects += torch.sum(predicted_labels == labels)\n",
        "    print(f'[{epoch + 1}] loss: {running_loss / (j+1):.3f}')\n",
        "    print(\"Acuracy is \", corrects.item() / ((j+1)*64))\n",
        "                  \n",
        "\n",
        "print('Finished Training')"
      ],
      "metadata": {
        "colab": {
          "base_uri": "https://localhost:8080/"
        },
        "id": "gm7DY16odKlV",
        "outputId": "d2156ed1-3867-4bc4-bf4b-7a85c4f4a4ec"
      },
      "execution_count": null,
      "outputs": [
        {
          "output_type": "stream",
          "name": "stderr",
          "text": [
            "4it [00:54, 11.09s/it]"
          ]
        }
      ]
    }
  ]
}